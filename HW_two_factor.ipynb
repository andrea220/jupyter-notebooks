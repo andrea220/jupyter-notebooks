{
 "cells": [
  {
   "cell_type": "code",
   "execution_count": 1,
   "metadata": {},
   "outputs": [],
   "source": [
    "import numpy as np\n",
    "import matplotlib.pyplot as plt\n",
    "import QuantLib as ql\n",
    "from datetime import datetime \n",
    "import pandas as pd\n",
    "import attr\n",
    "import math\n",
    "import typing\n",
    "import xlwings as xw\n",
    "import time"
   ]
  },
  {
   "cell_type": "code",
   "execution_count": 71,
   "metadata": {},
   "outputs": [],
   "source": [
    "@attr.s\n",
    "class twoFactorHW:\n",
    "    market_curve: ql.YieldTermStructure = attr.ib(default=ql.FlatForward(2, ql.TARGET(), 0.03, ql.Actual360()))\n",
    "    today_date: ql.Date = attr.ib(default=ql.Date.from_date(datetime.today()))\n",
    "    a: float = attr.ib(default=0.03)\n",
    "    sigma: float = attr.ib(default=0.0042)\n",
    "    b: float = attr.ib(default = 0.03)\n",
    "    eta: float = attr.ib(default=0.0042)\n",
    "    rho : float = attr.ib(default= 0.70)\n",
    "        \n",
    "    def phi(self, t: float) -> float:  # pagina 146 Brigo-Mercurio\n",
    "        f = self.market_curve.forwardRate(t, t+0.002739726, ql.Continuous).rate() # t+ 1 giorno\n",
    "        exp_at = 1- np.exp(-self.a*t)\n",
    "        exp_bt = 1- np.exp(-self.b*t)\n",
    "        phi_t = f + (self.sigma**2/(2*self.a**2)) * (exp_at**2) + (self.eta**2/(2*self.b**2)) * (exp_bt**2) + self.rho *(self.sigma*self.eta/(self.a*self.b))*exp_at*exp_bt\n",
    "        return phi_t\n",
    "    \n",
    "    def x_t(self, t: float, s: float , x_s:float):\n",
    "        E_xt = x_s * math.exp(-self.a*(t-s))\n",
    "        var_xt = self.sigma**2 * (t-s)\n",
    "        return np.random.normal(loc= E_xt, scale=math.sqrt(var_xt))\n",
    "    def y_t(self, t:float, s:float, y_s:float):\n",
    "        E_yt = y_s * math.exp(-self.b*(t-s))\n",
    "        var_xt = self.eta**2 * (t-s)\n",
    "        return np.random.normal(loc= E_yt, scale=math.sqrt(var_yt))\n",
    "\n",
    "    def gauss_params(self, s: float, t: float, r_s: float, x_s: float, y_s:int ) -> typing.Tuple[float, float]:\n",
    "        decay_factor_a = math.exp(-self.a*(t-s))\n",
    "        decay_factor_b = math.exp(-self.b*(t-s))\n",
    "        decay_factor_2a = math.exp(-2*self.a*(t-s))\n",
    "        decay_factor_2b = math.exp(-2*self.b*(t-s))\n",
    "        decay_factor_cross = math.exp(-(self.a + self.b)*(t-s))\n",
    "        E_rt = x_s*decay_factor_a + y_s*decay_factor_b + self.phi(t)\n",
    "        \n",
    "        Var_rt = (self.sigma**2 / 2*self.a) * (1- decay_factor_2a) + (self.eta**2/2*self.b)*(1 - decay_factor_2b) \n",
    "        Var_rt += 2*self.rho*(self.sigma*self.eta/(self.a + self.b))*(1- decay_factor_cross)\n",
    "        return E_rt, Var_rt\n",
    "    \n",
    "    def short_rate_path(self, path_length: float, \n",
    "                        path_steps: float,\n",
    "                        times: np.array = None) -> typing.Tuple[np.array, np.array]:\n",
    "        if times is None:\n",
    "            times, dt = np.linspace(start=0.0, stop=path_length, num=path_steps, retstep=True)\n",
    "        rt_path = np.zeros_like(times)\n",
    "        x_ts = np.zeros_like(times)\n",
    "        y_ts = np.zeros_like(times)\n",
    "        rt_path[0] = self.market_curve.forwardRate(0, 0, ql.Continuous).rate()\n",
    "        x_ts[0] = 0\n",
    "        y_ts[0] = 0\n",
    "        for step, tpl in enumerate(zip(times[:-1], times[1:]), 1):\n",
    "            s, t = tpl\n",
    "            x_s = x_ts[step-1]\n",
    "            y_s = y_ts[step-1]\n",
    "            Et, Vt = self.gauss_params(s, t, rt_path[step-1], x_s, y_s)\n",
    "            rt = np.random.normal(loc=Et, scale=math.sqrt(Vt))\n",
    "            x_ts[step] = self.x_t(t, s, x_s)\n",
    "            rt_path[step] = rt\n",
    "        return times, rt_path\n",
    "    \n",
    "    def short_rate_simul(self, path_length, path_steps, times: np.array = None):\n",
    "        Nsimul = 1\n",
    "        seed = 1\n",
    "        if times is None:\n",
    "            times, dt = np.linspace(start=0.0, stop=path_length, num=path_steps, retstep=True)\n",
    "        m = len(times)\n",
    "        r = np.zeros((Nsimul,m))\n",
    "        x = np.zeros((Nsimul,m))\n",
    "        y = np.zeros((Nsimul,m))\n",
    "        for n in range(0,Nsimul):\n",
    "            z1 = np.random.normal(0,1)\n",
    "            z2 = np.random.normal(0,1)\n",
    "            r[:,0] = self.market_curve.forwardRate(0, 0, ql.Continuous).rate()\n",
    "            x[:,0] = 0\n",
    "            y[:,0] = 0\n",
    "            for step, tpl in enumerate(zip(times[:-1], times[1:]), 1):\n",
    "                s, t = tpl\n",
    "                x[n,step] = x[n,step -1] - self.a*dt + self.sigma*np.sqrt(dt)*z1\n",
    "                y[n,step] = y[n,step -1] - self.b*dt + self.eta*self.rho*np.sqrt(dt)*z1 + self.eta*np.sqrt(1-self.rho**2)*z2\n",
    "                r[n,step] = x[n,step] + y[n,step] + self.phi(t)\n",
    "        return r"
   ]
  },
  {
   "cell_type": "code",
   "execution_count": 72,
   "metadata": {},
   "outputs": [],
   "source": [
    "myhw = twoFactorHW(a=0.04, sigma = 0.0045, b = 0.02, eta = 0.0040, rho = 0.6)"
   ]
  },
  {
   "cell_type": "code",
   "execution_count": 73,
   "metadata": {},
   "outputs": [],
   "source": [
    "short_rate = myhw.short_rate_simul(10, 25)"
   ]
  },
  {
   "cell_type": "code",
   "execution_count": 74,
   "metadata": {},
   "outputs": [
    {
     "data": {
      "image/png": "[encoded data removed]",
      "text/plain": [
       "<Figure size 432x288 with 1 Axes>"
      ]
     },
     "metadata": {
      "needs_background": "light"
     },
     "output_type": "display_data"
    }
   ],
   "source": [
    "plt.plot(short_rate.T)\n",
    "plt.show()"
   ]
  },
  {
   "cell_type": "code",
   "execution_count": 68,
   "metadata": {},
   "outputs": [
    {
     "data": {
      "text/plain": [
       "-0.656432733303092"
      ]
     },
     "execution_count": 68,
     "metadata": {},
     "output_type": "execute_result"
    }
   ],
   "source": [
    "np.random.normal(0,1)"
   ]
  },
  {
   "cell_type": "code",
   "execution_count": null,
   "metadata": {},
   "outputs": [],
   "source": []
  },
  {
   "cell_type": "code",
   "execution_count": null,
   "metadata": {},
   "outputs": [],
   "source": []
  }
 ],
 "metadata": {
  "kernelspec": {
   "display_name": "Python 3",
   "language": "python",
   "name": "python3"
  },
  "language_info": {
   "codemirror_mode": {
    "name": "ipython",
    "version": 3
   },
   "file_extension": ".py",
   "mimetype": "text/x-python",
   "name": "python",
   "nbconvert_exporter": "python",
   "pygments_lexer": "ipython3",
   "version": "3.7.3"
  }
 },
 "nbformat": 4,
 "nbformat_minor": 2
}
